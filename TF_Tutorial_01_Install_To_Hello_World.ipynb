{
 "cells": [
  {
   "cell_type": "markdown",
   "metadata": {},
   "source": [
    "### 텐서플로우 튜토리얼\n",
    "\n",
    "Part 01. 텐서플로우의 기본적인 사용법에 대하여 알아보기\n",
    "\n",
    "- 텐서플로우 설치는 다음과 같이 하면 된다\n",
    "\n",
    "    - `pip install tensorflow` (CPU 버전으로 설치된다.)\n",
    "    \n",
    "    - 다만 GPU 버전으로 설치할 경우에는 다음과 같이 두가지를 설정해 주면 된다.\n",
    "    \n",
    "        - 하나는 NVIDIA CUDA 드라이버를 설치하는 것이고\n",
    "        \n",
    "        - 또 하나는 CUDNN 설정 파일을 각 폴더에 붙여넣기 해주는 것이다.\n",
    "        \n",
    "        - 둘다 엔비디아에서 제공하며, 구글에서 CUDNN을 검색하면 이미 다른 사람들이 설치하는 방법을 업로드 해 놓았을 것이다.\n",
    "        \n",
    "    - 그럼 일단 지금은 CPU 버전에서 텐서플로우를 사용할 것이니, `pip install tensorflow`를 입력해서 설치하면 된다.\n",
    "    \n",
    "- 설치가 잘 되었는지를 확인하기 위하여 다음 Hello World 코드를 실행해보면 된다."
   ]
  },
  {
   "cell_type": "code",
   "execution_count": 2,
   "metadata": {},
   "outputs": [],
   "source": [
    "import tensorflow as tf # 텐서플로우를 임포트, as 문은 다음과 같이 읽겠다는 문."
   ]
  },
  {
   "cell_type": "code",
   "execution_count": 6,
   "metadata": {},
   "outputs": [],
   "source": [
    "sess = tf.Session() # 세션 열기"
   ]
  },
  {
   "cell_type": "markdown",
   "metadata": {},
   "source": [
    "텐서플로우는 `tf.Session()`문에서 실행하는 것을 빼고는 당장 실행되지 않는다."
   ]
  },
  {
   "cell_type": "code",
   "execution_count": 7,
   "metadata": {},
   "outputs": [],
   "source": [
    "hello = tf.constant('Hello World')"
   ]
  },
  {
   "cell_type": "markdown",
   "metadata": {},
   "source": [
    "`hello`라는 변수에 `tf.constant()`라는 문을 사용하여 'Hello World'라는 문구를 넣어주었다.\n",
    "\n",
    "그리고 이를 실행할려면 다음과 같이 실행하면 된다"
   ]
  },
  {
   "cell_type": "code",
   "execution_count": 8,
   "metadata": {},
   "outputs": [
    {
     "data": {
      "text/plain": [
       "b'Hello World'"
      ]
     },
     "execution_count": 8,
     "metadata": {},
     "output_type": "execute_result"
    }
   ],
   "source": [
    "sess.run(hello)"
   ]
  },
  {
   "cell_type": "markdown",
   "metadata": {},
   "source": [
    "실행하기 전까지는 아무런 행동 없이 그냥 다음과 같은 성질을 가지고 있을 뿐이다."
   ]
  },
  {
   "cell_type": "code",
   "execution_count": 12,
   "metadata": {},
   "outputs": [
    {
     "name": "stdout",
     "output_type": "stream",
     "text": [
      "Tensor(\"Const:0\", shape=(), dtype=string)\n"
     ]
    }
   ],
   "source": [
    "print(hello)"
   ]
  },
  {
   "cell_type": "markdown",
   "metadata": {},
   "source": [
    "그럼 여기에서 두개를 합하는 문을 사용해보면 어떨까?\n",
    "\n",
    "여기에서는 `tf.add()`라는 문을 사용한다. 말그대로 두개를 합한다는 문이다.\n",
    "\n",
    "함수에 대한 더 자세한 정보: https://www.tensorflow.org/api_docs/python/tf/add"
   ]
  },
  {
   "cell_type": "code",
   "execution_count": 19,
   "metadata": {},
   "outputs": [],
   "source": [
    "a1 = tf.constant(1.0) # a1이라는 문을 만들어 준다, 그리고 그 안에 1.0이라는 값을 넣어 준다."
   ]
  },
  {
   "cell_type": "code",
   "execution_count": 20,
   "metadata": {},
   "outputs": [],
   "source": [
    "a2 = tf.constant(2.3) # a2이라는 문을 만들어 준다. 그리고 그 안에 2.3이라는 값을 넣어 준다."
   ]
  },
  {
   "cell_type": "code",
   "execution_count": 33,
   "metadata": {},
   "outputs": [],
   "source": [
    "o1 = tf.add(a1, a2) # o1이라는 문을 만들어서, 앞서 설정한 두개의 문에 대한 값을 합하는 문을 넣어준다."
   ]
  },
  {
   "cell_type": "code",
   "execution_count": 23,
   "metadata": {},
   "outputs": [
    {
     "data": {
      "text/plain": [
       "3.3"
      ]
     },
     "execution_count": 23,
     "metadata": {},
     "output_type": "execute_result"
    }
   ],
   "source": [
    "sess.run(o1) # 실행"
   ]
  },
  {
   "cell_type": "markdown",
   "metadata": {},
   "source": [
    "아마 add 함수를 사용하지 않고도 실행할 수 있지 않나 싶어서 한번 구동해 보자."
   ]
  },
  {
   "cell_type": "code",
   "execution_count": 24,
   "metadata": {},
   "outputs": [],
   "source": [
    "o1 = a1 + a2"
   ]
  },
  {
   "cell_type": "code",
   "execution_count": 25,
   "metadata": {},
   "outputs": [
    {
     "data": {
      "text/plain": [
       "3.3"
      ]
     },
     "execution_count": 25,
     "metadata": {},
     "output_type": "execute_result"
    }
   ],
   "source": [
    "sess.run(o1)"
   ]
  },
  {
   "cell_type": "code",
   "execution_count": 26,
   "metadata": {},
   "outputs": [
    {
     "data": {
      "text/plain": [
       "<tf.Tensor 'add:0' shape=() dtype=float32>"
      ]
     },
     "execution_count": 26,
     "metadata": {},
     "output_type": "execute_result"
    }
   ],
   "source": [
    "o1"
   ]
  },
  {
   "cell_type": "markdown",
   "metadata": {},
   "source": [
    "이것을 통해서 별 문제 없는 것으로 생각한다."
   ]
  },
  {
   "cell_type": "markdown",
   "metadata": {},
   "source": [
    "### 덤. 지금 내가 구동하고 있는 환경은 어떻게 되는지 알아보는 방법. (CPU, GPU)\n",
    "\n",
    "노트북을 제작하고 있는 환경에서는 GPU를 사용하고 있지 않다. 그래서 다음과 같이 `sess.list_devices()`문을 사용하여 보면 CPU 상에서 구동되고 있다고 뜬다."
   ]
  },
  {
   "cell_type": "code",
   "execution_count": 27,
   "metadata": {},
   "outputs": [
    {
     "data": {
      "text/plain": [
       "[_DeviceAttributes(/job:localhost/replica:0/task:0/device:CPU:0, CPU, 21080288)]"
      ]
     },
     "execution_count": 27,
     "metadata": {},
     "output_type": "execute_result"
    }
   ],
   "source": [
    "sess.list_devices()"
   ]
  },
  {
   "cell_type": "code",
   "execution_count": null,
   "metadata": {},
   "outputs": [],
   "source": []
  }
 ],
 "metadata": {
  "kernelspec": {
   "display_name": "Python 3",
   "language": "python",
   "name": "python3"
  },
  "language_info": {
   "codemirror_mode": {
    "name": "ipython",
    "version": 3
   },
   "file_extension": ".py",
   "mimetype": "text/x-python",
   "name": "python",
   "nbconvert_exporter": "python",
   "pygments_lexer": "ipython3",
   "version": "3.6.2"
  }
 },
 "nbformat": 4,
 "nbformat_minor": 2
}
